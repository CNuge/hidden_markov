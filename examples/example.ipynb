{
 "metadata": {
  "name": "",
  "signature": "sha256:11790921fc7fe7718d4fd470b80772c3c9a3c434cdaadf2da81935c142f33c66"
 },
 "nbformat": 3,
 "nbformat_minor": 0,
 "worksheets": [
  {
   "cells": [
    {
     "cell_type": "heading",
     "level": 1,
     "metadata": {
      "slideshow": {
       "slide_type": "slide"
      }
     },
     "source": [
      "Hidden Markov Model : hidden_markov package example"
     ]
    },
    {
     "cell_type": "code",
     "collapsed": false,
     "input": [
      "# Import required Libraries\n",
      "import numpy as np\n",
      "from hidden_markov import hmm"
     ],
     "language": "python",
     "metadata": {},
     "outputs": [],
     "prompt_number": 11
    },
    {
     "cell_type": "code",
     "collapsed": false,
     "input": [
      "# ====Initializing Parameters ====\n",
      "\n",
      "# States\n",
      "states = ('s', 't')\n",
      "\n",
      "# list of possible observations\n",
      "possible_observation = ('A','B' )\n",
      "\n",
      "# The observations that we observe and feed to the model\n",
      "obs1 = ('A', 'B','B','A')\n",
      "obs2 = ('B', 'A','B')\n",
      "\n",
      "# Number of observation sequece 1 and observation sequence 2\n",
      "quantities_observations = [10, 20]\n",
      "\n",
      "observation_tuple = []\n",
      "observation_tuple.extend( [obs1,obs2] )\n",
      " \n",
      "# Input parameters as Numpy matrices\n",
      "start_probability = np.matrix( '0.5 0.5 ')\n",
      "transition_probability = np.matrix('0.6 0.4 ;  0.3 0.7 ')\n",
      "emission_probability = np.matrix( '0.3 0.7 ; 0.4 0.6 ' )\n"
     ],
     "language": "python",
     "metadata": {},
     "outputs": [],
     "prompt_number": 2
    },
    {
     "cell_type": "code",
     "collapsed": false,
     "input": [
      " test = hmm(states,possible_observation,start_probability,transition_probability,emission_probability)"
     ],
     "language": "python",
     "metadata": {},
     "outputs": [],
     "prompt_number": 3
    },
    {
     "cell_type": "code",
     "collapsed": false,
     "input": [
      "#Forward Algorithm Results on 'obs1'\n",
      "test.forward_algo(obs1)"
     ],
     "language": "python",
     "metadata": {},
     "outputs": [
      {
       "metadata": {},
       "output_type": "pyout",
       "prompt_number": 4,
       "text": [
        "0.051533999999999996"
       ]
      }
     ],
     "prompt_number": 4
    },
    {
     "cell_type": "code",
     "collapsed": false,
     "input": [
      "#Output of the Viterbi algorithm \n",
      "test.viterbi(obs1)"
     ],
     "language": "python",
     "metadata": {},
     "outputs": [
      {
       "metadata": {},
       "output_type": "pyout",
       "prompt_number": 5,
       "text": [
        "['t', 't', 't', 't']"
       ]
      }
     ],
     "prompt_number": 5
    },
    {
     "cell_type": "code",
     "collapsed": false,
     "input": [
      "prob = test.log_prob(observation_tuple, quantities_observations)\n",
      "print (\"probability of sequence with original parameters : %f\"%(prob))"
     ],
     "language": "python",
     "metadata": {},
     "outputs": [
      {
       "output_type": "stream",
       "stream": "stdout",
       "text": [
        "probability of sequence with original parameters : -67.920122\n"
       ]
      }
     ],
     "prompt_number": 6
    },
    {
     "cell_type": "code",
     "collapsed": false,
     "input": [
      "#Sequence on which Baum welch algoritm aws applide on\n",
      "observation_tuple"
     ],
     "language": "python",
     "metadata": {},
     "outputs": [
      {
       "metadata": {},
       "output_type": "pyout",
       "prompt_number": 7,
       "text": [
        "[('A', 'B', 'B', 'A'), ('B', 'A', 'B')]"
       ]
      }
     ],
     "prompt_number": 7
    },
    {
     "cell_type": "code",
     "collapsed": false,
     "input": [
      "#Apply Baum-welch Algorithm\n",
      "num_iter=1000\n",
      "emission,transition,start = test.train_hmm(observation_tuple,num_iter,quantities_observations)"
     ],
     "language": "python",
     "metadata": {},
     "outputs": [],
     "prompt_number": 8
    },
    {
     "cell_type": "code",
     "collapsed": false,
     "input": [
      "#Print output after applying the algorithm\n",
      "print(emission)\n",
      "print(transition)\n",
      "print(start)"
     ],
     "language": "python",
     "metadata": {},
     "outputs": [
      {
       "output_type": "stream",
       "stream": "stdout",
       "text": [
        "[[ 0.36193015  0.63806985]\n",
        " [ 0.41111482  0.58888518]]\n",
        "[[ 0.58184591  0.41815409]\n",
        " [ 0.29789921  0.70210079]]\n",
        "[[ 0.49431308  0.50568692]]\n"
       ]
      }
     ],
     "prompt_number": 9
    },
    {
     "cell_type": "code",
     "collapsed": false,
     "input": [
      "prob = test.log_prob(observation_tuple, quantities_observations)\n",
      "print (\"probability of sequence after %d iterations : %f\"%(num_iter,prob))"
     ],
     "language": "python",
     "metadata": {},
     "outputs": [
      {
       "output_type": "stream",
       "stream": "stdout",
       "text": [
        "probability of sequence after 1000 iterations : -67.356668\n"
       ]
      }
     ],
     "prompt_number": 10
    }
   ],
   "metadata": {}
  }
 ]
}